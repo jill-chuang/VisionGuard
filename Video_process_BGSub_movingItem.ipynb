{
 "cells": [
  {
   "cell_type": "markdown",
   "id": "60c143ff-2f5a-4b50-a3e4-0aa84e16122d",
   "metadata": {},
   "source": [
    "## 即時影像處理：\n",
    "- 用 OpenCV 讀取攝影機畫面，進行即時的背景減除（MOG2 或 Frame Difference）。\n",
    "- 在畫面中標註出移動的物體，並在畫面中為人臉或物體添加馬賽克處理。\n",
    "## 移動偵測：\n",
    "- 用背景減除或 Frame Difference 檢測影片中的移動物體。\n",
    "- 為移動物體添加邊界框，並進行顯示或後續處理。\n",
    "\n",
    "## 進階背景減除：\n",
    "- 使用不同的背景減除算法來處理各種環境（如動態背景、陰影等）。"
   ]
  },
  {
   "cell_type": "code",
   "execution_count": 10,
   "id": "5a863b46-fb12-4bb9-b99b-76b169e6fd3c",
   "metadata": {},
   "outputs": [],
   "source": [
    "import cv2\n",
    "import os\n",
    "import glob"
   ]
  },
  {
   "cell_type": "code",
   "execution_count": 12,
   "id": "7cc85635-fb62-44c3-94ed-a2a8677ac14c",
   "metadata": {},
   "outputs": [],
   "source": [
    "# 讀取影像序列\n",
    "image_folder = \"./cdnet2014/dataset/baseline/PETS2006/input\"\n",
    "image_paths = sorted(glob.glob(os.path.join(image_folder, \"*.jpg\")))"
   ]
  },
  {
   "cell_type": "code",
   "execution_count": 16,
   "id": "c70d838d-daa3-446f-a8ac-c3d3b42dbc07",
   "metadata": {},
   "outputs": [],
   "source": [
    "# 使用 MOG2 背景減除器\n",
    "fgbg_mog2 = cv2.createBackgroundSubtractorMOG2()\n",
    "\n",
    "# 使用 KNN 背景減除器\n",
    "fgbg_knn = cv2.createBackgroundSubtractorKNN()\n",
    "\n",
    "for image_path in image_paths:\n",
    "    # 讀取圖片\n",
    "    frame = cv2.imread(image_path)\n",
    "\n",
    "    # 背景減除：使用 MOG2\n",
    "    fgmask_mog2 = fgbg_mog2.apply(frame)\n",
    "    \n",
    "    # 背景減除：使用 KNN\n",
    "    fgmask_knn = fgbg_knn.apply(frame)\n",
    "    \n",
    "    # 顯示結果\n",
    "    cv2.imshow('MOG2', fgmask_mog2)\n",
    "    cv2.imshow('KNN', fgmask_knn)\n",
    "    \n",
    "    if cv2.waitKey(30) & 0xFF == ord('q'):\n",
    "        break\n",
    "\n",
    "cv2.destroyAllWindows()"
   ]
  },
  {
   "cell_type": "code",
   "execution_count": 15,
   "id": "26def0dd-4598-42d4-af0d-ee8b38e81fb6",
   "metadata": {},
   "outputs": [],
   "source": [
    "# 背景減除器（MOG2）\n",
    "fgbg = cv2.createBackgroundSubtractorMOG2()\n",
    "\n",
    "for image_path in image_paths:\n",
    "    # 讀取圖片\n",
    "    frame = cv2.imread(image_path)\n",
    "\n",
    "    # 背景減除\n",
    "    fgmask = fgbg.apply(frame)\n",
    "\n",
    "    # 顯示背景減除效果（前景遮罩）\n",
    "    cv2.imshow('Foreground Mask', fgmask)\n",
    "\n",
    "    # 顯示原始畫面\n",
    "    cv2.imshow('Original Frame', frame)\n",
    "\n",
    "    # 偵測移動物體：用輪廓檢測標註移動物體\n",
    "    contours, _ = cv2.findContours(fgmask, cv2.RETR_EXTERNAL, cv2.CHAIN_APPROX_SIMPLE)\n",
    "    for contour in contours:\n",
    "        if cv2.contourArea(contour) > 500:  # 過濾小輪廓\n",
    "            x, y, w, h = cv2.boundingRect(contour)\n",
    "            # 在移動物體周圍畫上紅色邊界框\n",
    "            cv2.rectangle(frame, (x, y), (x + w, y + h), (0, 0, 255), 2)\n",
    "\n",
    "    # 顯示標註了移動物體的原始畫面\n",
    "    cv2.imshow('Detected Movement', frame)\n",
    "\n",
    "    # 按 'q' 鍵退出\n",
    "    if cv2.waitKey(30) & 0xFF == ord('q'):  # 每幀顯示 30 毫秒\n",
    "        break\n",
    "        \n",
    "# 釋放資源\n",
    "cv2.destroyAllWindows()"
   ]
  },
  {
   "cell_type": "code",
   "execution_count": null,
   "id": "e7adb898-57b8-4ed8-9908-87ea5efcdf89",
   "metadata": {},
   "outputs": [],
   "source": []
  }
 ],
 "metadata": {
  "kernelspec": {
   "display_name": "Python (VisionGuard)",
   "language": "python",
   "name": "visionguard"
  },
  "language_info": {
   "codemirror_mode": {
    "name": "ipython",
    "version": 3
   },
   "file_extension": ".py",
   "mimetype": "text/x-python",
   "name": "python",
   "nbconvert_exporter": "python",
   "pygments_lexer": "ipython3",
   "version": "3.8.20"
  }
 },
 "nbformat": 4,
 "nbformat_minor": 5
}
